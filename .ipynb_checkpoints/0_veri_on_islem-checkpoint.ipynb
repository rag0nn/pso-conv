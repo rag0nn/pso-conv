{
 "cells": [
  {
   "cell_type": "markdown",
   "id": "7b6b7bbf",
   "metadata": {},
   "source": [
    "### Veri Setinin Metadatasını İçeri Aktarma"
   ]
  },
  {
   "cell_type": "code",
   "execution_count": 2,
   "id": "0c83db09",
   "metadata": {},
   "outputs": [],
   "source": [
    "import os # Python sistem ilişkileri\n",
    "import cv2 # Görüntü İşleme\n",
    "import pandas as pd # Frame İşlemleri\n",
    "import matplotlib.pyplot as plt # Görüntüleme ve grafik oluşturma işlemleri\n",
    "import numpy as np # Dizi işlemleri"
   ]
  },
  {
   "cell_type": "code",
   "execution_count": 3,
   "id": "12bfa2e0",
   "metadata": {},
   "outputs": [
    {
     "data": {
      "text/html": [
       "<div>\n",
       "<style scoped>\n",
       "    .dataframe tbody tr th:only-of-type {\n",
       "        vertical-align: middle;\n",
       "    }\n",
       "\n",
       "    .dataframe tbody tr th {\n",
       "        vertical-align: top;\n",
       "    }\n",
       "\n",
       "    .dataframe thead th {\n",
       "        text-align: right;\n",
       "    }\n",
       "</style>\n",
       "<table border=\"1\" class=\"dataframe\">\n",
       "  <thead>\n",
       "    <tr style=\"text-align: right;\">\n",
       "      <th></th>\n",
       "      <th>lesion_id</th>\n",
       "      <th>image_id</th>\n",
       "      <th>dx</th>\n",
       "      <th>dx_type</th>\n",
       "      <th>age</th>\n",
       "      <th>sex</th>\n",
       "      <th>localization</th>\n",
       "    </tr>\n",
       "  </thead>\n",
       "  <tbody>\n",
       "    <tr>\n",
       "      <th>0</th>\n",
       "      <td>HAM_0000118</td>\n",
       "      <td>ISIC_0027419</td>\n",
       "      <td>bkl</td>\n",
       "      <td>histo</td>\n",
       "      <td>80.0</td>\n",
       "      <td>male</td>\n",
       "      <td>scalp</td>\n",
       "    </tr>\n",
       "    <tr>\n",
       "      <th>1</th>\n",
       "      <td>HAM_0000118</td>\n",
       "      <td>ISIC_0025030</td>\n",
       "      <td>bkl</td>\n",
       "      <td>histo</td>\n",
       "      <td>80.0</td>\n",
       "      <td>male</td>\n",
       "      <td>scalp</td>\n",
       "    </tr>\n",
       "    <tr>\n",
       "      <th>2</th>\n",
       "      <td>HAM_0002730</td>\n",
       "      <td>ISIC_0026769</td>\n",
       "      <td>bkl</td>\n",
       "      <td>histo</td>\n",
       "      <td>80.0</td>\n",
       "      <td>male</td>\n",
       "      <td>scalp</td>\n",
       "    </tr>\n",
       "    <tr>\n",
       "      <th>3</th>\n",
       "      <td>HAM_0002730</td>\n",
       "      <td>ISIC_0025661</td>\n",
       "      <td>bkl</td>\n",
       "      <td>histo</td>\n",
       "      <td>80.0</td>\n",
       "      <td>male</td>\n",
       "      <td>scalp</td>\n",
       "    </tr>\n",
       "    <tr>\n",
       "      <th>4</th>\n",
       "      <td>HAM_0001466</td>\n",
       "      <td>ISIC_0031633</td>\n",
       "      <td>bkl</td>\n",
       "      <td>histo</td>\n",
       "      <td>75.0</td>\n",
       "      <td>male</td>\n",
       "      <td>ear</td>\n",
       "    </tr>\n",
       "  </tbody>\n",
       "</table>\n",
       "</div>"
      ],
      "text/plain": [
       "     lesion_id      image_id   dx dx_type   age   sex localization\n",
       "0  HAM_0000118  ISIC_0027419  bkl   histo  80.0  male        scalp\n",
       "1  HAM_0000118  ISIC_0025030  bkl   histo  80.0  male        scalp\n",
       "2  HAM_0002730  ISIC_0026769  bkl   histo  80.0  male        scalp\n",
       "3  HAM_0002730  ISIC_0025661  bkl   histo  80.0  male        scalp\n",
       "4  HAM_0001466  ISIC_0031633  bkl   histo  75.0  male          ear"
      ]
     },
     "execution_count": 3,
     "metadata": {},
     "output_type": "execute_result"
    }
   ],
   "source": [
    "dataset_metadata = pd.read_csv(\"./dataset/HAM10000_metadata.csv\")\n",
    "dataset_metadata.head()"
   ]
  },
  {
   "cell_type": "code",
   "execution_count": 4,
   "id": "b3750799",
   "metadata": {},
   "outputs": [],
   "source": [
    "# Metadata içerisinden başlangıç(X) ve hedef(Y) değerlerimizi aldık.\n",
    "y = dataset_metadata[\"dx\"]\n",
    "img_names = dataset_metadata[\"image_id\"]"
   ]
  },
  {
   "cell_type": "markdown",
   "id": "a87b3a59",
   "metadata": {},
   "source": [
    "### Veri setinin dağılımları"
   ]
  },
  {
   "cell_type": "code",
   "execution_count": 5,
   "id": "c3a81abb",
   "metadata": {},
   "outputs": [
    {
     "name": "stdout",
     "output_type": "stream",
     "text": [
      "Kanser Türü Dağılımları\n",
      " {'nv': 6705, 'mel': 1113, 'bkl': 1099, 'bcc': 514, 'akiec': 327, 'vasc': 142, 'df': 115}\n"
     ]
    },
    {
     "data": {
      "image/png": "[encoded data removed]",
      "text/plain": [
       "<Figure size 400x400 with 1 Axes>"
      ]
     },
     "metadata": {},
     "output_type": "display_data"
    }
   ],
   "source": [
    "# Hedef verileri saydırıp bir sözlüğün içerisine alıyoruz.\n",
    "y_dict = y.value_counts().to_dict()\n",
    "print(\"Kanser Türü Dağılımları\\n\",y_dict)\n",
    "\n",
    "# Pasta grafiğini\n",
    "plt.figure(figsize=(4, 4))  # Grafiğin boyutunu ayarla (isteğe bağlı)\n",
    "\n",
    "# 'autopct' parametresi yüzdelik değerlerini ekler, \n",
    "# 'startangle' parametresi başlangıç açısını ayarlar\n",
    "plt.pie(y_dict.values(), labels=y_dict.keys(), autopct='%1.1f%%', startangle=90)\n",
    "\n",
    "\n",
    "plt.title('Kanser Verisi Pasta Grafiği')\n",
    "plt.show()"
   ]
  }
 ],
 "metadata": {
  "kernelspec": {
   "display_name": "Python 3 (ipykernel)",
   "language": "python",
   "name": "python3"
  },
  "language_info": {
   "codemirror_mode": {
    "name": "ipython",
    "version": 3
   },
   "file_extension": ".py",
   "mimetype": "text/x-python",
   "name": "python",
   "nbconvert_exporter": "python",
   "pygments_lexer": "ipython3",
   "version": "3.9.16"
  }
 },
 "nbformat": 4,
 "nbformat_minor": 5
}
