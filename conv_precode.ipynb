{
 "cells": [
  {
   "cell_type": "code",
   "execution_count": 1,
   "id": "57d2db81",
   "metadata": {},
   "outputs": [],
   "source": [
    "image_input_size = (80,60,3)"
   ]
  },
  {
   "cell_type": "markdown",
   "id": "cd45cbc3",
   "metadata": {},
   "source": [
    "### Importing Dataset"
   ]
  },
  {
   "cell_type": "code",
   "execution_count": 2,
   "id": "5053d120",
   "metadata": {},
   "outputs": [],
   "source": [
    "import os \n",
    "import cv2\n",
    "import pandas as pd\n",
    "import matplotlib.pyplot as plt\n",
    "import numpy as np"
   ]
  },
  {
   "cell_type": "code",
   "execution_count": 3,
   "id": "654aecb1",
   "metadata": {},
   "outputs": [
    {
     "data": {
      "text/plain": [
       "'C:\\\\Users\\\\Asus\\\\Desktop\\\\RAPOR ÖDEV'"
      ]
     },
     "execution_count": 3,
     "metadata": {},
     "output_type": "execute_result"
    }
   ],
   "source": [
    "os.getcwd()"
   ]
  },
  {
   "cell_type": "code",
   "execution_count": 4,
   "id": "4a0c6494",
   "metadata": {},
   "outputs": [
    {
     "data": {
      "text/plain": [
       "['archive.zip',\n",
       " 'HAM10000_images',\n",
       " 'HAM10000_metadata.csv',\n",
       " 'hmnist_28_28_L.csv',\n",
       " 'hmnist_28_28_RGB.csv',\n",
       " 'hmnist_8_8_L.csv',\n",
       " 'hmnist_8_8_RGB.csv']"
      ]
     },
     "execution_count": 4,
     "metadata": {},
     "output_type": "execute_result"
    }
   ],
   "source": [
    "os.listdir('./dataset/')"
   ]
  },
  {
   "cell_type": "code",
   "execution_count": 5,
   "id": "e513622d",
   "metadata": {},
   "outputs": [],
   "source": [
    "metadata = pd.read_csv(\"./dataset/HAM10000_metadata.csv\")"
   ]
  },
  {
   "cell_type": "code",
   "execution_count": 6,
   "id": "e7345ea8",
   "metadata": {},
   "outputs": [
    {
     "data": {
      "text/html": [
       "<div>\n",
       "<style scoped>\n",
       "    .dataframe tbody tr th:only-of-type {\n",
       "        vertical-align: middle;\n",
       "    }\n",
       "\n",
       "    .dataframe tbody tr th {\n",
       "        vertical-align: top;\n",
       "    }\n",
       "\n",
       "    .dataframe thead th {\n",
       "        text-align: right;\n",
       "    }\n",
       "</style>\n",
       "<table border=\"1\" class=\"dataframe\">\n",
       "  <thead>\n",
       "    <tr style=\"text-align: right;\">\n",
       "      <th></th>\n",
       "      <th>lesion_id</th>\n",
       "      <th>image_id</th>\n",
       "      <th>dx</th>\n",
       "      <th>dx_type</th>\n",
       "      <th>age</th>\n",
       "      <th>sex</th>\n",
       "      <th>localization</th>\n",
       "    </tr>\n",
       "  </thead>\n",
       "  <tbody>\n",
       "    <tr>\n",
       "      <th>0</th>\n",
       "      <td>HAM_0000118</td>\n",
       "      <td>ISIC_0027419</td>\n",
       "      <td>bkl</td>\n",
       "      <td>histo</td>\n",
       "      <td>80.0</td>\n",
       "      <td>male</td>\n",
       "      <td>scalp</td>\n",
       "    </tr>\n",
       "    <tr>\n",
       "      <th>1</th>\n",
       "      <td>HAM_0000118</td>\n",
       "      <td>ISIC_0025030</td>\n",
       "      <td>bkl</td>\n",
       "      <td>histo</td>\n",
       "      <td>80.0</td>\n",
       "      <td>male</td>\n",
       "      <td>scalp</td>\n",
       "    </tr>\n",
       "    <tr>\n",
       "      <th>2</th>\n",
       "      <td>HAM_0002730</td>\n",
       "      <td>ISIC_0026769</td>\n",
       "      <td>bkl</td>\n",
       "      <td>histo</td>\n",
       "      <td>80.0</td>\n",
       "      <td>male</td>\n",
       "      <td>scalp</td>\n",
       "    </tr>\n",
       "    <tr>\n",
       "      <th>3</th>\n",
       "      <td>HAM_0002730</td>\n",
       "      <td>ISIC_0025661</td>\n",
       "      <td>bkl</td>\n",
       "      <td>histo</td>\n",
       "      <td>80.0</td>\n",
       "      <td>male</td>\n",
       "      <td>scalp</td>\n",
       "    </tr>\n",
       "    <tr>\n",
       "      <th>4</th>\n",
       "      <td>HAM_0001466</td>\n",
       "      <td>ISIC_0031633</td>\n",
       "      <td>bkl</td>\n",
       "      <td>histo</td>\n",
       "      <td>75.0</td>\n",
       "      <td>male</td>\n",
       "      <td>ear</td>\n",
       "    </tr>\n",
       "    <tr>\n",
       "      <th>...</th>\n",
       "      <td>...</td>\n",
       "      <td>...</td>\n",
       "      <td>...</td>\n",
       "      <td>...</td>\n",
       "      <td>...</td>\n",
       "      <td>...</td>\n",
       "      <td>...</td>\n",
       "    </tr>\n",
       "    <tr>\n",
       "      <th>10010</th>\n",
       "      <td>HAM_0002867</td>\n",
       "      <td>ISIC_0033084</td>\n",
       "      <td>akiec</td>\n",
       "      <td>histo</td>\n",
       "      <td>40.0</td>\n",
       "      <td>male</td>\n",
       "      <td>abdomen</td>\n",
       "    </tr>\n",
       "    <tr>\n",
       "      <th>10011</th>\n",
       "      <td>HAM_0002867</td>\n",
       "      <td>ISIC_0033550</td>\n",
       "      <td>akiec</td>\n",
       "      <td>histo</td>\n",
       "      <td>40.0</td>\n",
       "      <td>male</td>\n",
       "      <td>abdomen</td>\n",
       "    </tr>\n",
       "    <tr>\n",
       "      <th>10012</th>\n",
       "      <td>HAM_0002867</td>\n",
       "      <td>ISIC_0033536</td>\n",
       "      <td>akiec</td>\n",
       "      <td>histo</td>\n",
       "      <td>40.0</td>\n",
       "      <td>male</td>\n",
       "      <td>abdomen</td>\n",
       "    </tr>\n",
       "    <tr>\n",
       "      <th>10013</th>\n",
       "      <td>HAM_0000239</td>\n",
       "      <td>ISIC_0032854</td>\n",
       "      <td>akiec</td>\n",
       "      <td>histo</td>\n",
       "      <td>80.0</td>\n",
       "      <td>male</td>\n",
       "      <td>face</td>\n",
       "    </tr>\n",
       "    <tr>\n",
       "      <th>10014</th>\n",
       "      <td>HAM_0003521</td>\n",
       "      <td>ISIC_0032258</td>\n",
       "      <td>mel</td>\n",
       "      <td>histo</td>\n",
       "      <td>70.0</td>\n",
       "      <td>female</td>\n",
       "      <td>back</td>\n",
       "    </tr>\n",
       "  </tbody>\n",
       "</table>\n",
       "<p>10015 rows × 7 columns</p>\n",
       "</div>"
      ],
      "text/plain": [
       "         lesion_id      image_id     dx dx_type   age     sex localization\n",
       "0      HAM_0000118  ISIC_0027419    bkl   histo  80.0    male        scalp\n",
       "1      HAM_0000118  ISIC_0025030    bkl   histo  80.0    male        scalp\n",
       "2      HAM_0002730  ISIC_0026769    bkl   histo  80.0    male        scalp\n",
       "3      HAM_0002730  ISIC_0025661    bkl   histo  80.0    male        scalp\n",
       "4      HAM_0001466  ISIC_0031633    bkl   histo  75.0    male          ear\n",
       "...            ...           ...    ...     ...   ...     ...          ...\n",
       "10010  HAM_0002867  ISIC_0033084  akiec   histo  40.0    male      abdomen\n",
       "10011  HAM_0002867  ISIC_0033550  akiec   histo  40.0    male      abdomen\n",
       "10012  HAM_0002867  ISIC_0033536  akiec   histo  40.0    male      abdomen\n",
       "10013  HAM_0000239  ISIC_0032854  akiec   histo  80.0    male         face\n",
       "10014  HAM_0003521  ISIC_0032258    mel   histo  70.0  female         back\n",
       "\n",
       "[10015 rows x 7 columns]"
      ]
     },
     "execution_count": 6,
     "metadata": {},
     "output_type": "execute_result"
    }
   ],
   "source": [
    "metadata"
   ]
  },
  {
   "cell_type": "code",
   "execution_count": 7,
   "id": "10ccc311",
   "metadata": {},
   "outputs": [],
   "source": [
    "k = metadata[\"dx\"].value_counts()\n",
    "k_dict = k.to_dict()"
   ]
  },
  {
   "cell_type": "code",
   "execution_count": 8,
   "id": "08866fca",
   "metadata": {},
   "outputs": [
    {
     "data": {
      "image/png": "[encoded data removed]",
      "text/plain": [
       "<Figure size 800x800 with 1 Axes>"
      ]
     },
     "metadata": {},
     "output_type": "display_data"
    }
   ],
   "source": [
    "# Pasta grafiğini çizelim\n",
    "plt.figure(figsize=(8, 8))  # Grafiğin boyutunu ayarla (isteğe bağlı)\n",
    "plt.pie(k_dict.values(), labels=k_dict.keys(), autopct='%1.1f%%', startangle=90)\n",
    "\n",
    "# 'autopct' parametresi yüzdelik değerlerini ekler, 'startangle' parametresi başlangıç açısını ayarlar\n",
    "\n",
    "plt.title('Kanser Verisi Pasta Grafiği')\n",
    "plt.show()\n"
   ]
  },
  {
   "cell_type": "code",
   "execution_count": 9,
   "id": "6e31e21d",
   "metadata": {},
   "outputs": [],
   "source": [
    "categories = metadata[\"dx\"]\n",
    "img_names = metadata[\"image_id\"]\n",
    "categories = np.array(categories)\n",
    "from sklearn.model_selection import train_test_split\n",
    "X_train, X_test, y_train, y_test = train_test_split(img_names, categories, test_size=0.33, random_state=42)"
   ]
  },
  {
   "cell_type": "code",
   "execution_count": 10,
   "id": "2c3e0c9d",
   "metadata": {},
   "outputs": [
    {
     "name": "stdout",
     "output_type": "stream",
     "text": [
      "(6710,)\n",
      "(3305,)\n",
      "10015 10015\n",
      "(6710,)\n",
      "(3305,)\n"
     ]
    }
   ],
   "source": [
    "print(X_train.shape)\n",
    "print(X_test.shape)\n",
    "print(X_train.shape[0] + X_test.shape[0], len(img_names))\n",
    "print(y_train.shape)\n",
    "print(y_test.shape)\n"
   ]
  },
  {
   "cell_type": "code",
   "execution_count": null,
   "id": "b1f410a6",
   "metadata": {},
   "outputs": [],
   "source": []
  },
  {
   "cell_type": "code",
   "execution_count": 11,
   "id": "792a8789",
   "metadata": {},
   "outputs": [
    {
     "name": "stdout",
     "output_type": "stream",
     "text": [
      "[[0. 0. 0. 0. 1. 0. 0.]\n",
      " [0. 0. 1. 0. 0. 0. 0.]\n",
      " [0. 0. 0. 0. 0. 1. 0.]\n",
      " [0. 0. 0. 0. 0. 1. 0.]]\n",
      "[[0. 0. 0. 0. 1. 0. 0.]\n",
      " [0. 0. 0. 0. 0. 1. 0.]\n",
      " [0. 0. 0. 0. 1. 0. 0.]\n",
      " [0. 0. 1. 0. 0. 0. 0.]]\n"
     ]
    }
   ],
   "source": [
    "from sklearn.preprocessing import OneHotEncoder\n",
    "\n",
    "encoder = OneHotEncoder()\n",
    "encoded_train_y = encoder.fit_transform(np.reshape(y_train,newshape=(-1,1))).toarray()\n",
    "encoded_test_y = encoder.fit_transform(np.reshape(y_test,newshape=(-1,1))).toarray()\n",
    "print(encoded_train_y[0:4])\n",
    "print(encoded_test_y[0:4])"
   ]
  },
  {
   "cell_type": "code",
   "execution_count": 12,
   "id": "1f3b92a8",
   "metadata": {},
   "outputs": [
    {
     "name": "stdout",
     "output_type": "stream",
     "text": [
      "6710\n",
      "3305\n"
     ]
    }
   ],
   "source": [
    "train_images =  []\n",
    "for im_name in X_train:\n",
    "    im = cv2.imread(f\"./dataset/HAM10000_images/{im_name}.jpg\")\n",
    "    im = cv2.resize(im,dsize=(image_input_size[1],image_input_size[0]))\n",
    "    train_images.append(im)\n",
    "\n",
    "test_images =  []\n",
    "for im_name in X_test:\n",
    "    im = cv2.imread(f\"./dataset/HAM10000_images/{im_name}.jpg\")\n",
    "    im = cv2.resize(im,dsize=(image_input_size[1],image_input_size[0]))\n",
    "    test_images.append(im)\n",
    "    \n",
    "print(len(train_images))\n",
    "print(len(test_images))"
   ]
  },
  {
   "cell_type": "code",
   "execution_count": null,
   "id": "34aa7d5b",
   "metadata": {},
   "outputs": [],
   "source": []
  },
  {
   "cell_type": "code",
   "execution_count": 13,
   "id": "1a48006f",
   "metadata": {},
   "outputs": [
    {
     "name": "stdout",
     "output_type": "stream",
     "text": [
      "(6710, 80, 60, 3) (3305, 80, 60, 3) (10015,)\n"
     ]
    }
   ],
   "source": [
    "train_images = np.array(train_images)\n",
    "test_images = np.array(test_images)\n",
    "categories = np.array(categories)\n",
    "print(train_images.shape,test_images.shape,categories.shape)"
   ]
  },
  {
   "cell_type": "code",
   "execution_count": 14,
   "id": "981892ec",
   "metadata": {},
   "outputs": [
    {
     "data": {
      "image/png": "[encoded data removed]",
      "text/plain": [
       "<Figure size 640x480 with 1 Axes>"
      ]
     },
     "metadata": {},
     "output_type": "display_data"
    }
   ],
   "source": [
    "plt.imshow(train_images[5000])\n",
    "plt.axis(\"off\")\n",
    "plt.show()"
   ]
  },
  {
   "cell_type": "code",
   "execution_count": 15,
   "id": "5929c6a3",
   "metadata": {},
   "outputs": [],
   "source": [
    "from tensorflow.keras.layers import Dense,Dropout,Input,Conv2D,MaxPooling2D,Flatten\n",
    "import tensorflow as tf\n",
    "from tensorflow.keras.models import Sequential\n"
   ]
  },
  {
   "cell_type": "code",
   "execution_count": 16,
   "id": "2d704152",
   "metadata": {},
   "outputs": [
    {
     "name": "stdout",
     "output_type": "stream",
     "text": [
      "Model: \"sequential\"\n",
      "_________________________________________________________________\n",
      " Layer (type)                Output Shape              Param #   \n",
      "=================================================================\n",
      " conv2d (Conv2D)             (None, 78, 58, 20)        560       \n",
      "                                                                 \n",
      " max_pooling2d (MaxPooling2D  (None, 39, 29, 20)       0         \n",
      " )                                                               \n",
      "                                                                 \n",
      " conv2d_1 (Conv2D)           (None, 37, 27, 20)        3620      \n",
      "                                                                 \n",
      " max_pooling2d_1 (MaxPooling  (None, 18, 13, 20)       0         \n",
      " 2D)                                                             \n",
      "                                                                 \n",
      " conv2d_2 (Conv2D)           (None, 16, 11, 20)        3620      \n",
      "                                                                 \n",
      " max_pooling2d_2 (MaxPooling  (None, 8, 5, 20)         0         \n",
      " 2D)                                                             \n",
      "                                                                 \n",
      " flatten (Flatten)           (None, 800)               0         \n",
      "                                                                 \n",
      " dense (Dense)               (None, 7)                 5607      \n",
      "                                                                 \n",
      "=================================================================\n",
      "Total params: 13,407\n",
      "Trainable params: 13,407\n",
      "Non-trainable params: 0\n",
      "_________________________________________________________________\n"
     ]
    }
   ],
   "source": [
    "model = Sequential()\n",
    "model.add(Input(shape=image_input_size))\n",
    "model.add(Conv2D(20,kernel_size=(3,3),activation=\"relu\", kernel_initializer=tf.keras.initializers.Constant(value=0.1)))\n",
    "model.add(MaxPooling2D(pool_size=(2,2)))\n",
    "model.add(Conv2D(20,kernel_size=(3,3),activation=\"relu\", kernel_initializer=tf.keras.initializers.Constant(value=0.1)))\n",
    "model.add(MaxPooling2D(pool_size=(2,2)))\n",
    "model.add(Conv2D(20,kernel_size=(3,3),activation=\"relu\", kernel_initializer=tf.keras.initializers.Constant(value=0.1)))\n",
    "model.add(MaxPooling2D(pool_size=(2,2)))\n",
    "model.add(Flatten())\n",
    "model.add(Dense(7, kernel_initializer='glorot_uniform',activation=\"softmax\"))\n",
    "model.summary()"
   ]
  },
  {
   "cell_type": "code",
   "execution_count": null,
   "id": "54644b80",
   "metadata": {},
   "outputs": [],
   "source": []
  },
  {
   "cell_type": "code",
   "execution_count": null,
   "id": "1eaf2bc7",
   "metadata": {},
   "outputs": [],
   "source": []
  },
  {
   "cell_type": "code",
   "execution_count": 18,
   "id": "5a7a9b15",
   "metadata": {},
   "outputs": [],
   "source": [
    "model.compile(optimizer=tf.keras.optimizers.Adam(learning_rate=0.001),loss=\"categorical_crossentropy\",metrics=['accuracy'])"
   ]
  },
  {
   "cell_type": "code",
   "execution_count": 21,
   "id": "aa5bd7c3",
   "metadata": {},
   "outputs": [
    {
     "name": "stdout",
     "output_type": "stream",
     "text": [
      "Epoch 1/2\n",
      "210/210 [==============================] - 1s 5ms/step - loss: 770.3412 - accuracy: 0.5104\n",
      "Epoch 2/2\n",
      "210/210 [==============================] - 1s 5ms/step - loss: 141.9608 - accuracy: 0.5174\n"
     ]
    }
   ],
   "source": [
    "history = model.fit(x=train_images,y=encoded_train_y,epochs=2,)\n"
   ]
  },
  {
   "cell_type": "code",
   "execution_count": 22,
   "id": "4530729e",
   "metadata": {},
   "outputs": [
    {
     "name": "stdout",
     "output_type": "stream",
     "text": [
      "104/104 - 0s - loss: 56.9875 - accuracy: 0.4862 - 387ms/epoch - 4ms/step\n",
      "\n",
      "Test accuracy: 0.4862329661846161\n"
     ]
    }
   ],
   "source": [
    "test_loss, test_acc = model.evaluate(test_images, encoded_test_y, verbose=2)\n",
    "print('\\nTest accuracy:', test_acc)"
   ]
  },
  {
   "cell_type": "code",
   "execution_count": 30,
   "id": "ffc685a1",
   "metadata": {},
   "outputs": [
    {
     "data": {
      "text/plain": [
       "{'loss': [770.3411865234375, 141.96083068847656],\n",
       " 'accuracy': [0.5104321837425232, 0.517436683177948]}"
      ]
     },
     "execution_count": 30,
     "metadata": {},
     "output_type": "execute_result"
    }
   ],
   "source": [
    "history.history"
   ]
  },
  {
   "cell_type": "code",
   "execution_count": 31,
   "id": "aaacce4e",
   "metadata": {},
   "outputs": [],
   "source": [
    "from sklearn.metrics import f1_score"
   ]
  },
  {
   "cell_type": "code",
   "execution_count": 37,
   "id": "62c8be2c",
   "metadata": {},
   "outputs": [
    {
     "name": "stdout",
     "output_type": "stream",
     "text": [
      "104/104 [==============================] - 0s 3ms/step\n",
      "Weighted F1 Score (sklearn): 0.5013075452053389\n"
     ]
    }
   ],
   "source": [
    "# Modelin çıktılarını alın\n",
    "predictions = model.predict(test_images)\n",
    "\n",
    "# Çıktıları one-hot encoded'dan sınıflara dönüştürün\n",
    "binary_predictions = tf.argmax(predictions, axis=1).numpy()\n",
    "true_labels = tf.argmax(encoded_test_y, axis=1).numpy()\n",
    "\n",
    "# sklearn ile F1 score'u hesapla\n",
    "f1 = f1_score(true_labels, binary_predictions, average='weighted')\n",
    "\n",
    "print(\"Weighted F1 Score (sklearn):\", f1)"
   ]
  },
  {
   "cell_type": "code",
   "execution_count": null,
   "id": "a4e36f20",
   "metadata": {},
   "outputs": [],
   "source": []
  }
 ],
 "metadata": {
  "kernelspec": {
   "display_name": "Python 3 (ipykernel)",
   "language": "python",
   "name": "python3"
  },
  "language_info": {
   "codemirror_mode": {
    "name": "ipython",
    "version": 3
   },
   "file_extension": ".py",
   "mimetype": "text/x-python",
   "name": "python",
   "nbconvert_exporter": "python",
   "pygments_lexer": "ipython3",
   "version": "3.9.16"
  }
 },
 "nbformat": 4,
 "nbformat_minor": 5
}
